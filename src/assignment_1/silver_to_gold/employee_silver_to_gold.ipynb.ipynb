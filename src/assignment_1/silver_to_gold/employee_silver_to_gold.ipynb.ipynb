{
 "cells": [
  {
   "cell_type": "code",
   "execution_count": 0,
   "metadata": {
    "application/vnd.databricks.v1+cell": {
     "cellMetadata": {
      "byteLimit": 2048000,
      "rowLimit": 10000
     },
     "inputWidgets": {},
     "nuid": "e17b92a3-c8ee-4b97-b3f5-1c4f8f4b5e46",
     "showTitle": false,
     "tableResultSettingsMap": {},
     "title": ""
    }
   },
   "outputs": [],
   "source": [
    "%run \"/Workspace/src (1)/assignment_1/source_to_bronze/util.ipynb\""
   ]
  },
  {
   "cell_type": "code",
   "execution_count": 0,
   "metadata": {
    "application/vnd.databricks.v1+cell": {
     "cellMetadata": {
      "byteLimit": 2048000,
      "rowLimit": 10000
     },
     "inputWidgets": {},
     "nuid": "a4acac5d-d7d6-4d53-b430-09c5f53ea5bf",
     "showTitle": false,
     "tableResultSettingsMap": {},
     "title": ""
    }
   },
   "outputs": [],
   "source": [
    "employee_df = spark.read.format(\"delta\").load(\"/Volumes/workspace/default/databricks_assignment/employee_info/dim_employee\")\n",
    "display(employee_df)"
   ]
  },
  {
   "cell_type": "code",
   "execution_count": 0,
   "metadata": {
    "application/vnd.databricks.v1+cell": {
     "cellMetadata": {
      "byteLimit": 2048000,
      "rowLimit": 10000
     },
     "inputWidgets": {},
     "nuid": "813e4a1b-19bb-4719-97a3-87fb4975299a",
     "showTitle": false,
     "tableResultSettingsMap": {},
     "title": ""
    }
   },
   "outputs": [],
   "source": [
    "from pyspark.sql.functions import sum\n",
    "\n",
    "dept_salary_df = employee_df.groupBy(\"department_id\") \\\n",
    "    .agg(sum(\"salary\").alias(\"total_salary\")) \\\n",
    "    .orderBy(\"total_salary\", ascending=False)\n",
    "\n",
    "display(dept_salary_df)\n"
   ]
  },
  {
   "cell_type": "code",
   "execution_count": 0,
   "metadata": {
    "application/vnd.databricks.v1+cell": {
     "cellMetadata": {
      "byteLimit": 2048000,
      "rowLimit": 10000
     },
     "inputWidgets": {},
     "nuid": "b0c10d85-d602-4ba7-a947-44b5d6b8a5ae",
     "showTitle": false,
     "tableResultSettingsMap": {},
     "title": ""
    }
   },
   "outputs": [],
   "source": [
    "dept_country_count_df = employee_df.groupBy(\"department_id\", \"country_id\") \\\n",
    "    .count() \\\n",
    "    .withColumnRenamed(\"count\", \"employee_count\")\n",
    "\n",
    "display(dept_country_count_df)"
   ]
  },
  {
   "cell_type": "code",
   "execution_count": 0,
   "metadata": {
    "application/vnd.databricks.v1+cell": {
     "cellMetadata": {
      "byteLimit": 2048000,
      "rowLimit": 10000
     },
     "inputWidgets": {},
     "nuid": "b4440d5c-d4a0-4bf1-ade2-abc9eb81dbff",
     "showTitle": false,
     "tableResultSettingsMap": {},
     "title": ""
    }
   },
   "outputs": [],
   "source": [
    "department_df = read_csv_file(\"/Volumes/different_files_format/default/data/csv_files/Department-Q1.csv\")\n",
    "country_df = read_csv_file(\"/Volumes/different_files_format/default/data/csv_files/Country-Q1.csv\")\n",
    "\n",
    "department_df = department_df \\\n",
    "    .withColumnRenamed(\"DepartmentID\", \"department_id\") \\\n",
    "    .withColumnRenamed(\"DepartmentName\", \"department_name\")\n",
    "\n",
    "\n",
    "country_df = country_df \\\n",
    "    .withColumnRenamed(\"CountryCode\", \"country_id\") \\\n",
    "    .withColumnRenamed(\"CountryName\", \"country_name\")\n",
    "\n",
    "\n",
    "\n",
    "emp_dept_country_df = employee_df.select(\"department_id\", \"country_id\").distinct() \\\n",
    "    .join(department_df, on=\"department_id\", how=\"inner\") \\\n",
    "    .join(country_df, on=\"country_id\", how=\"inner\") \\\n",
    "    .select(\"department_name\", \"country_name\")"
   ]
  },
  {
   "cell_type": "code",
   "execution_count": 0,
   "metadata": {
    "application/vnd.databricks.v1+cell": {
     "cellMetadata": {
      "byteLimit": 2048000,
      "rowLimit": 10000
     },
     "inputWidgets": {},
     "nuid": "c88f587c-7d74-4a18-ad72-499b55e9f61d",
     "showTitle": false,
     "tableResultSettingsMap": {},
     "title": ""
    }
   },
   "outputs": [],
   "source": [
    "from pyspark.sql.functions import avg\n",
    "\n",
    "avg_age_df = employee_df.groupBy(\"department_id\") \\\n",
    "    .agg(avg(\"age\").alias(\"average_age\"))\n",
    "\n",
    "display(avg_age_df)"
   ]
  },
  {
   "cell_type": "code",
   "execution_count": 0,
   "metadata": {
    "application/vnd.databricks.v1+cell": {
     "cellMetadata": {
      "byteLimit": 2048000,
      "rowLimit": 10000
     },
     "inputWidgets": {},
     "nuid": "89102857-43cd-4e5e-8b65-5ef7b6fbfe2e",
     "showTitle": false,
     "tableResultSettingsMap": {},
     "title": ""
    }
   },
   "outputs": [],
   "source": [
    "from pyspark.sql.functions import current_date\n",
    "\n",
    "dept_salary_df = dept_salary_df.withColumn(\"at_load_date\", current_date())\n",
    "dept_country_count_df = dept_country_count_df.withColumn(\"at_load_date\", current_date())\n",
    "emp_dept_country_df = emp_dept_country_df.withColumn(\"at_load_date\", current_date())\n",
    "avg_age_df = avg_age_df.withColumn(\"at_load_date\", current_date())\n",
    "\n",
    "display(dept_salary_df)\n",
    "display(dept_country_count_df)\n",
    "display(emp_dept_country_df)\n",
    "display(avg_age_df)\n"
   ]
  },
  {
   "cell_type": "code",
   "execution_count": 0,
   "metadata": {
    "application/vnd.databricks.v1+cell": {
     "cellMetadata": {
      "byteLimit": 2048000,
      "rowLimit": 10000
     },
     "inputWidgets": {},
     "nuid": "a82e923a-cf2a-449f-a4f8-d8b2f2baf474",
     "showTitle": false,
     "tableResultSettingsMap": {},
     "title": ""
    }
   },
   "outputs": [],
   "source": [
    "final_df = dept_salary_df.unionByName(dept_country_count_df, allowMissingColumns=True) \\\n",
    "    .unionByName(emp_dept_country_df, allowMissingColumns=True) \\\n",
    "    .unionByName(avg_age_df, allowMissingColumns=True)\n",
    "\n",
    "final_df.write.format(\"delta\") \\\n",
    "    .mode(\"overwrite\") \\\n",
    "    .option(\"overwriteSchema\", \"true\") \\\n",
    "    .option(\"replaceWhere\", \"at_load_date = current_date()\") \\\n",
    "    .save(\"/Volumes/workspace/default/databricks_assignment/gold_employee/fact_employee\")\n",
    "\n",
    "display(final_df)"
   ]
  }
 ],
 "metadata": {
  "application/vnd.databricks.v1+notebook": {
   "computePreferences": null,
   "dashboards": [],
   "environmentMetadata": {
    "base_environment": "",
    "environment_version": "2"
   },
   "inputWidgetPreferences": null,
   "language": "python",
   "notebookMetadata": {
    "pythonIndentUnit": 4
   },
   "notebookName": "employee_silver_to_gold.ipynb",
   "widgets": {}
  },
  "language_info": {
   "name": "python"
  }
 },
 "nbformat": 4,
 "nbformat_minor": 0
}
