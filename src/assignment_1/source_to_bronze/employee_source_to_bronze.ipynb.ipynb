{
 "cells": [
  {
   "cell_type": "code",
   "execution_count": 0,
   "metadata": {
    "application/vnd.databricks.v1+cell": {
     "cellMetadata": {
      "byteLimit": 2048000,
      "rowLimit": 10000
     },
     "inputWidgets": {},
     "nuid": "801c4723-0d4a-4d22-a39a-4210ce2da2e2",
     "showTitle": false,
     "tableResultSettingsMap": {},
     "title": ""
    }
   },
   "outputs": [],
   "source": [
    "%run \"/Workspace/src (1)/assignment_1/bronze_to_silver/util.ipynb\"\n"
   ]
  },
  {
   "cell_type": "code",
   "execution_count": 0,
   "metadata": {
    "application/vnd.databricks.v1+cell": {
     "cellMetadata": {
      "byteLimit": 2048000,
      "rowLimit": 10000
     },
     "inputWidgets": {},
     "nuid": "75ed09a5-945d-4026-a860-cc5db5d34964",
     "showTitle": false,
     "tableResultSettingsMap": {},
     "title": ""
    }
   },
   "outputs": [],
   "source": [
    "employee_df = read_csv_file(\"/Volumes/different_files_format/default/data/csv_files/Employee-Q1.csv\")\n",
    "department_df = read_csv_file(\"/Volumes/different_files_format/default/data/csv_files/Department-Q1.csv\")\n",
    "country_df = read_csv_file(\"/Volumes/different_files_format/default/data/csv_files/Country-Q1.csv\")\n",
    "\n",
    "write_csv_file(employee_df, \"/Volumes/workspace/default/databricks_assignment/df_write/employee_write.csv\")\n",
    "write_csv_file(department_df, \"/Volumes/workspace/default/databricks_assignment/df_write/department_write.csv\")\n",
    "write_csv_file(country_df, \"/Volumes/workspace/default/databricks_assignment/df_write/country_write.csv\")\n"
   ]
  }
 ],
 "metadata": {
  "application/vnd.databricks.v1+notebook": {
   "computePreferences": null,
   "dashboards": [],
   "environmentMetadata": {
    "base_environment": "",
    "environment_version": "2"
   },
   "inputWidgetPreferences": null,
   "language": "python",
   "notebookMetadata": {
    "pythonIndentUnit": 4
   },
   "notebookName": "employee_source_to_bronze.ipynb",
   "widgets": {}
  },
  "language_info": {
   "name": "python"
  }
 },
 "nbformat": 4,
 "nbformat_minor": 0
}
