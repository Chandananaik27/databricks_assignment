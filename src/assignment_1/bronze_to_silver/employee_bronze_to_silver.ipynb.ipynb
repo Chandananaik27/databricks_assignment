{
 "cells": [
  {
   "cell_type": "code",
   "execution_count": 0,
   "metadata": {
    "application/vnd.databricks.v1+cell": {
     "cellMetadata": {
      "byteLimit": 2048000,
      "rowLimit": 10000
     },
     "inputWidgets": {},
     "nuid": "1ea10f2a-e3ae-4b13-ae07-a2a4a15571aa",
     "showTitle": false,
     "tableResultSettingsMap": {},
     "title": ""
    }
   },
   "outputs": [],
   "source": [
    "%run \"/Workspace/src (1)/assignment_1/source_to_bronze/util.ipynb\""
   ]
  },
  {
   "cell_type": "code",
   "execution_count": 0,
   "metadata": {
    "application/vnd.databricks.v1+cell": {
     "cellMetadata": {
      "byteLimit": 2048000,
      "rowLimit": 10000
     },
     "inputWidgets": {},
     "nuid": "756529b4-aa16-4a15-87d2-408887481a0f",
     "showTitle": false,
     "tableResultSettingsMap": {},
     "title": ""
    }
   },
   "outputs": [],
   "source": [
    "from pyspark.sql.types import *\n",
    "\n",
    "employee_schema = StructType([\n",
    "    StructField(\"EmployeeID\", StringType(), True),\n",
    "    StructField(\"EmpName\", StringType(), True),\n",
    "    StructField(\"DepartmentID\", StringType(), True),\n",
    "    StructField(\"CountryID\", StringType(), True),\n",
    "    StructField(\"Salary\", DoubleType(), True),\n",
    "    StructField(\"Age\", IntegerType(), True)\n",
    "])"
   ]
  },
  {
   "cell_type": "code",
   "execution_count": 0,
   "metadata": {
    "application/vnd.databricks.v1+cell": {
     "cellMetadata": {
      "byteLimit": 2048000,
      "rowLimit": 10000
     },
     "inputWidgets": {},
     "nuid": "4644b2eb-3101-435c-b04b-2e715373c2f2",
     "showTitle": false,
     "tableResultSettingsMap": {},
     "title": ""
    }
   },
   "outputs": [],
   "source": [
    "\n",
    "#Read using custom schema (Method 1 – Function from utils)\n",
    "employee_df_1 = read_csv_with_schema(\"/Volumes/different_files_format/default/data/csv_files/Employee-Q1.csv\", employee_schema)\n",
    "\n",
    "# Read using Spark API directly (Method 2 – Direct read)\n",
    "employee_df_2 = spark.read.option(\"header\", True).schema(employee_schema).csv(\"/Volumes/different_files_format/default/data/csv_files/Employee-Q1.csv\"\n",
    "\n",
    "# Read using SparkSession + Options (Method 3 – More detailed)\n",
    "employee_df_3 = (\n",
    "    spark.read\n",
    "    .format(\"csv\")\n",
    "    .option(\"header\", \"true\")\n",
    "    .schema(employee_schema)\n",
    "    .load(\"/Volumes/different_files_format/default/data/csv_files/Employee-Q1.csv\")\n",
    ")\n",
    "\n",
    "# results\n",
    "display(employee_df_1)\n",
    "display(employee_df_2)\n",
    "display(employee_df_3)"
   ]
  },
  {
   "cell_type": "code",
   "execution_count": 0,
   "metadata": {
    "application/vnd.databricks.v1+cell": {
     "cellMetadata": {
      "byteLimit": 2048000,
      "rowLimit": 10000
     },
     "inputWidgets": {},
     "nuid": "807ed11f-f5bf-47ef-addb-6919683e01ba",
     "showTitle": false,
     "tableResultSettingsMap": {},
     "title": ""
    }
   },
   "outputs": [],
   "source": [
    "from pyspark.sql.functions import udf\n",
    "import re\n",
    "\n",
    "# CamelCase to snake_case converter\n",
    "def camel_to_snake(name):\n",
    "    s1 = re.sub('(.)([A-Z][a-z]+)', r'\\1_\\2', name)\n",
    "    return re.sub('([a-z0-9])([A-Z])', r'\\1_\\2', s1).lower()\n",
    "\n",
    "# UDF to apply CamelCase → snake_case\n",
    "def camel_to_snake_func(col_name):\n",
    "    return camel_to_snake(col_name)\n",
    "\n",
    "camel_to_snake_udf = udf(camel_to_snake_func, StringType())"
   ]
  },
  {
   "cell_type": "code",
   "execution_count": 0,
   "metadata": {
    "application/vnd.databricks.v1+cell": {
     "cellMetadata": {
      "byteLimit": 2048000,
      "rowLimit": 10000
     },
     "inputWidgets": {},
     "nuid": "8db740cc-8fc3-405f-8b76-26ec3ca64352",
     "showTitle": false,
     "tableResultSettingsMap": {},
     "title": ""
    }
   },
   "outputs": [],
   "source": [
    "old_columns = employee_df_1.columns\n",
    "\n",
    "# Convert using UDF logic\n",
    "new_columns = [camel_to_snake(col) for col in old_columns]  # from utils, not UDF inside DataFrame\n",
    "\n",
    "# Apply renaming\n",
    "for old_col, new_col in zip(old_columns, new_columns):\n",
    "    employee_df_1 = employee_df_1.withColumnRenamed(old_col, new_col)\n",
    "\n",
    "display(employee_df_1)"
   ]
  },
  {
   "cell_type": "code",
   "execution_count": 0,
   "metadata": {
    "application/vnd.databricks.v1+cell": {
     "cellMetadata": {
      "byteLimit": 2048000,
      "rowLimit": 10000
     },
     "inputWidgets": {},
     "nuid": "58ea2b2c-743c-44d0-8064-3a5d42d18aac",
     "showTitle": false,
     "tableResultSettingsMap": {},
     "title": ""
    }
   },
   "outputs": [],
   "source": [
    "from pyspark.sql.functions import current_date\n",
    "\n",
    "employee_df_1 = employee_df_1.withColumn(\"load_date\", current_date())\n",
    "\n",
    "spark.sql(\"CREATE DATABASE IF NOT EXISTS Employee_info\")\n",
    "\n",
    "employee_df_1.write \\\n",
    "    .format(\"delta\") \\\n",
    "    .mode(\"overwrite\") \\\n",
    "    .option(\"overwriteSchema\", \"true\") \\\n",
    "    .save(\"/Volumes/workspace/default/databricks_assignment/employee_info/dim_employee\")"
   ]
  },
  {
   "cell_type": "code",
   "execution_count": 0,
   "metadata": {
    "application/vnd.databricks.v1+cell": {
     "cellMetadata": {
      "byteLimit": 2048000,
      "rowLimit": 10000
     },
     "inputWidgets": {},
     "nuid": "bb65aa91-5292-4a2a-9a4e-7e8e79ae4fa4",
     "showTitle": false,
     "tableResultSettingsMap": {},
     "title": ""
    }
   },
   "outputs": [],
   "source": [
    "df = spark.read.format(\"delta\").load(\"/Volumes/workspace/default/databricks_assignment/employee_info/dim_employee\")\n",
    "display(df)"
   ]
  }
 ],
 "metadata": {
  "application/vnd.databricks.v1+notebook": {
   "computePreferences": null,
   "dashboards": [],
   "environmentMetadata": {
    "base_environment": "",
    "environment_version": "2"
   },
   "inputWidgetPreferences": null,
   "language": "python",
   "notebookMetadata": {
    "pythonIndentUnit": 4
   },
   "notebookName": "employee_bronze_to_silver.ipynb",
   "widgets": {}
  },
  "language_info": {
   "name": "python"
  }
 },
 "nbformat": 4,
 "nbformat_minor": 0
}
